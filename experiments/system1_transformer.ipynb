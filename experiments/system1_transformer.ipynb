{
 "cells": [
  {
   "cell_type": "markdown",
   "metadata": {},
   "source": [
    "# Install stuff on Colab and imports"
   ]
  },
  {
   "cell_type": "code",
   "execution_count": null,
   "metadata": {
    "colab": {
     "base_uri": "https://localhost:8080/"
    },
    "id": "zueqb8izumpD",
    "outputId": "df2d8ada-296d-47b5-bf98-7309f036d9ef"
   },
   "outputs": [],
   "source": [
    "#!nvidia-smi"
   ]
  },
  {
   "cell_type": "code",
   "execution_count": null,
   "metadata": {
    "colab": {
     "base_uri": "https://localhost:8080/",
     "height": 1000
    },
    "id": "s1hJbMuKudVL",
    "outputId": "65884c30-1d4a-4e15-b9ea-9b0778410f96"
   },
   "outputs": [],
   "source": [
    "# In case you want to run it on Google Colab, don't forget to install biome.text first\n",
    "\n",
    "# !pip install -U pip\n",
    "# !pip install -U git+https://github.com/recognai/biome-text.git@project/profner\n",
    "# exit(0)"
   ]
  },
  {
   "cell_type": "code",
   "execution_count": null,
   "metadata": {
    "colab": {
     "base_uri": "https://localhost:8080/"
    },
    "id": "eFoFiT9luq37",
    "outputId": "a10ddb33-289d-4d9b-d542-48ac37f4fe47"
   },
   "outputs": [],
   "source": [
    "# !pip install wandb"
   ]
  },
  {
   "cell_type": "code",
   "execution_count": null,
   "metadata": {
    "colab": {
     "base_uri": "https://localhost:8080/"
    },
    "id": "Pk-bNMeKvRt-",
    "outputId": "3ac3d88f-a74d-4dfa-8bc2-18ddfb7edf2e"
   },
   "outputs": [],
   "source": [
    "# !wandb login"
   ]
  },
  {
   "cell_type": "code",
   "execution_count": 2,
   "metadata": {
    "id": "y97I_QIlveeB"
   },
   "outputs": [],
   "source": [
    "import itertools\n",
    "import os\n",
    "from pathlib import Path\n",
    "\n",
    "from biome.text import Dataset, Pipeline, TrainerConfiguration\n",
    "from biome.text.hpo import TuneExperiment\n",
    "from ray import tune\n",
    "from ray.tune.suggest.hyperopt import HyperOptSearch"
   ]
  },
  {
   "cell_type": "markdown",
   "metadata": {},
   "source": [
    "# Create training and validation data sets"
   ]
  },
  {
   "cell_type": "code",
   "execution_count": null,
   "metadata": {
    "colab": {
     "base_uri": "https://localhost:8080/"
    },
    "id": "nPqP3AHpvl-V",
    "outputId": "980d5662-4d8d-47d8-89d1-6b2cc65ea845"
   },
   "outputs": [],
   "source": [
    "train_ds = Dataset.from_json(\"../preprocessing_inference/train_v1.json\")\n",
    "valid_ds = Dataset.from_json(\"../preprocessing_inference/valid_v1.json\")"
   ]
  },
  {
   "cell_type": "code",
   "execution_count": null,
   "metadata": {
    "id": "9F2Gszk2vo6n"
   },
   "outputs": [],
   "source": [
    "train_ds.rename_column_(\"tags_bio\", \"tags\")\n",
    "valid_ds.rename_column_(\"tags_bio\", \"tags\")\n",
    "train_ds.rename_column_(\"classification_label\", \"labels\")\n",
    "valid_ds.rename_column_(\"classification_label\", \"labels\")"
   ]
  },
  {
   "cell_type": "code",
   "execution_count": null,
   "metadata": {},
   "outputs": [],
   "source": [
    "train_ds.head()"
   ]
  },
  {
   "cell_type": "markdown",
   "metadata": {},
   "source": [
    "# Define pipeline/trainer config and HPO search spaces "
   ]
  },
  {
   "cell_type": "code",
   "execution_count": 7,
   "metadata": {},
   "outputs": [],
   "source": [
    "transformers_model: str = \"dccuchile/bert-base-spanish-wwm-cased\"\n",
    "#transformers_model: str = \"prajjwal1/bert-tiny\"\n",
    "\n",
    "profnert = {\n",
    "    \"name\": \"profnert\",\n",
    "    \"features\": {\n",
    "        \"transformers\": {\n",
    "            \"model_name\": transformers_model,\n",
    "            \"trainable\": True,\n",
    "        }\n",
    "    },\n",
    "    \"head\": {\n",
    "        \"type\": \"ProfNerT\",\n",
    "        \"classification_labels\": train_ds.unique(\"labels\"),\n",
    "        \"classification_pooler\": {\n",
    "            \"type\": \"bert_pooler\",\n",
    "            \"pretrained_model\": transformers_model,\n",
    "            \"requires_grad\": True,\n",
    "            \"dropout\": 0.1,\n",
    "        },\n",
    "        \"ner_tags\": list(set(itertools.chain.from_iterable(train_ds[\"tags\"]))),\n",
    "        \"ner_tags_encoding\": \"BIO\",\n",
    "        \"transformers_model\": transformers_model,\n",
    "        \"dropout\": 0.1,\n",
    "    },\n",
    "}"
   ]
  },
  {
   "cell_type": "code",
   "execution_count": null,
   "metadata": {},
   "outputs": [],
   "source": [
    "trainer_config = dict(\n",
    "    optimizer={\n",
    "        \"type\": \"adamw\",\n",
    "        \"lr\": tune.loguniform(5e-6, 1e-4),\n",
    "        \"weight_decay\": tune.loguniform(1e-3, 1e-1),\n",
    "    },\n",
    "    linear_decay=True,\n",
    "    warmup_steps=tune.randint(0, 200),\n",
    "    batch_size=tune.choice([8, 16]),\n",
    "    num_epochs=tune.choice([3, 4, 5]),\n",
    "    validation_metric=\"+valid_ner/f1-measure-overall\",\n",
    "    num_serialized_models_to_keep=0,\n",
    ")"
   ]
  },
  {
   "cell_type": "markdown",
   "metadata": {},
   "source": [
    "# Launch HPO experiment"
   ]
  },
  {
   "cell_type": "code",
   "execution_count": null,
   "metadata": {
    "id": "8CRqn22axZ6p"
   },
   "outputs": [],
   "source": [
    "search_alg = HyperOptSearch(metric=\"validation_valid_ner/f1-measure-overall\", mode=\"max\")\n",
    "\n",
    "# does not support integers\n",
    "# from ray.tune.suggest.bayesopt import BayesOptSearch\n",
    "# search_alg = BayesOptSearch(metric=\"validation_ner/f1-measure-overall\", mode=\"max\")\n",
    "\n",
    "# ray2.0.0 does not use the gpu ...\n",
    "# from ray.tune.suggest.hebo import HEBOSearch\n",
    "# search_alg = HEBOSearch(metric=\"validation_ner/f1-measure-overall\", mode=\"max\")"
   ]
  },
  {
   "cell_type": "code",
   "execution_count": null,
   "metadata": {},
   "outputs": [],
   "source": [
    "hpo_experiment = TuneExperiment(\n",
    "    pipeline_config=profnert,\n",
    "    trainer_config=trainer_config,\n",
    "    train_dataset=train_ds,\n",
    "    valid_dataset=valid_ds,\n",
    "    name=\"profner_transformers\",\n",
    "    num_samples=50,\n",
    "    local_dir=\"tune_runs\",\n",
    "    resources_per_trial={\"cpu\": 2, \"gpu\": 1},\n",
    ")"
   ]
  },
  {
   "cell_type": "code",
   "execution_count": null,
   "metadata": {},
   "outputs": [],
   "source": [
    "analysis = tune.run(\n",
    "    hpo_experiment,\n",
    "    config=hpo_experiment.config,\n",
    "    scheduler=tune.schedulers.ASHAScheduler(),\n",
    "    search_alg=search_alg,\n",
    "    metric=\"validation_valid_ner/f1-measure-overall\",\n",
    "    mode=\"max\",\n",
    "#     progress_reporter=tune.CLIReporter(\n",
    "#         metric_columns=[\n",
    "#             \"best_validation_valid_ner/f1-measure-overall\",\n",
    "#             \"best_validation_valid_classification/accuracy\",\n",
    "#         ],\n",
    "#         parameter_columns=[\"trainer.optimizer.lr\"],\n",
    "#     ),\n",
    "    progress_reporter=tune.JupyterNotebookReporter(overwrite=True)\n",
    "    verbose=1,\n",
    ")"
   ]
  },
  {
   "cell_type": "markdown",
   "metadata": {},
   "source": [
    "# Train the best model on train+validation data set\n",
    "\n",
    "See \"profner_transformers\" project in wandb tagged as \"HyperOpt\" (https://wandb.ai/dcfidalgo/profner_transformers), best run: *zany-deluge-56*; 0.8338, 0.967"
   ]
  },
  {
   "cell_type": "code",
   "execution_count": null,
   "metadata": {},
   "outputs": [],
   "source": [
    "train_full_ds = Dataset.from_datasets([train_ds, valid_ds])"
   ]
  },
  {
   "cell_type": "code",
   "execution_count": null,
   "metadata": {},
   "outputs": [],
   "source": [
    "transformers_model: str = \"dccuchile/bert-base-spanish-wwm-cased\"\n",
    "#transformers_model: str = \"prajjwal1/bert-tiny\"\n",
    "\n",
    "profnert = {\n",
    "    \"name\": \"profnert\",\n",
    "    \"features\": {\n",
    "        \"transformers\": {\n",
    "            \"model_name\": transformers_model,\n",
    "            \"trainable\": True,\n",
    "        }\n",
    "    },\n",
    "    \"head\": {\n",
    "        \"type\": \"ProfNerT\",\n",
    "        \"classification_labels\": train_ds.unique(\"labels\"),\n",
    "        \"classification_pooler\": {\n",
    "            \"type\": \"bert_pooler\",\n",
    "            \"pretrained_model\": transformers_model,\n",
    "            \"requires_grad\": True,\n",
    "            \"dropout\": 0.1,\n",
    "        },\n",
    "        \"ner_tags\": list(set(itertools.chain.from_iterable(train_ds[\"tags\"]))),\n",
    "        \"ner_tags_encoding\": \"BIO\",\n",
    "        \"transformers_model\": transformers_model,\n",
    "        \"dropout\": 0.1,\n",
    "    },\n",
    "}"
   ]
  },
  {
   "cell_type": "code",
   "execution_count": null,
   "metadata": {},
   "outputs": [],
   "source": [
    "trainer_config = TrainerConfiguration(\n",
    "    optimizer={\n",
    "        \"type\": \"adamw\",\n",
    "        \"lr\": 3.0343630440731596e-05,\n",
    "        \"weight_decay\": 0.0017923056109509059,\n",
    "    },\n",
    "    warmup_steps=49,\n",
    "    linear_decay=True,\n",
    "    batch_size=8,\n",
    "    num_epochs=4,\n",
    "    validation_metric=\"+valid_ner/f1-measure-overall\",\n",
    "    random_seed=4,  # optimized manually\n",
    ")"
   ]
  },
  {
   "cell_type": "code",
   "execution_count": null,
   "metadata": {},
   "outputs": [],
   "source": [
    "pipeline = Pipeline.from_config(profnert)"
   ]
  },
  {
   "cell_type": "code",
   "execution_count": null,
   "metadata": {},
   "outputs": [],
   "source": [
    "pipeline.train(\n",
    "    output=\"final_transformer_model\",\n",
    "    training=train_full_ds,\n",
    "    trainer=trainer_config,\n",
    ")"
   ]
  }
 ],
 "metadata": {
  "kernelspec": {
   "display_name": "Python 3",
   "language": "python",
   "name": "python3"
  },
  "language_info": {
   "codemirror_mode": {
    "name": "ipython",
    "version": 3
   },
   "file_extension": ".py",
   "mimetype": "text/x-python",
   "name": "python",
   "nbconvert_exporter": "python",
   "pygments_lexer": "ipython3",
   "version": "3.7.9"
  }
 },
 "nbformat": 4,
 "nbformat_minor": 4
}
