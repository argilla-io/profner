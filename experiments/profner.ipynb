{
 "cells": [
  {
   "cell_type": "code",
   "execution_count": null,
   "metadata": {
    "colab": {
     "base_uri": "https://localhost:8080/"
    },
    "id": "zueqb8izumpD",
    "outputId": "df2d8ada-296d-47b5-bf98-7309f036d9ef"
   },
   "outputs": [],
   "source": [
    "!nvidia-smi"
   ]
  },
  {
   "cell_type": "code",
   "execution_count": null,
   "metadata": {
    "colab": {
     "base_uri": "https://localhost:8080/",
     "height": 1000
    },
    "id": "s1hJbMuKudVL",
    "outputId": "65884c30-1d4a-4e15-b9ea-9b0778410f96"
   },
   "outputs": [],
   "source": [
    "# !pip install -U pip\n",
    "# !pip install -U git+https://github.com/recognai/biome-text.git@project/profner\n",
    "# exit(0)"
   ]
  },
  {
   "cell_type": "code",
   "execution_count": null,
   "metadata": {
    "colab": {
     "base_uri": "https://localhost:8080/"
    },
    "id": "eFoFiT9luq37",
    "outputId": "a10ddb33-289d-4d9b-d542-48ac37f4fe47"
   },
   "outputs": [],
   "source": [
    "# !pip install wandb"
   ]
  },
  {
   "cell_type": "code",
   "execution_count": null,
   "metadata": {
    "colab": {
     "base_uri": "https://localhost:8080/"
    },
    "id": "Pk-bNMeKvRt-",
    "outputId": "3ac3d88f-a74d-4dfa-8bc2-18ddfb7edf2e"
   },
   "outputs": [],
   "source": [
    "# !wandb login"
   ]
  },
  {
   "cell_type": "code",
   "execution_count": null,
   "metadata": {
    "colab": {
     "base_uri": "https://localhost:8080/"
    },
    "id": "mkNKBkoOvYcg",
    "outputId": "cc5ad68a-6d3d-4f14-f23c-c1dfb22924b3"
   },
   "outputs": [],
   "source": [
    "# from google.colab import drive\n",
    "# drive.mount('/content/drive')"
   ]
  },
  {
   "cell_type": "code",
   "execution_count": null,
   "metadata": {
    "id": "y97I_QIlveeB"
   },
   "outputs": [],
   "source": [
    "from biome.text import Dataset, Pipeline, TrainerConfiguration\n",
    "from biome.text.hpo import TuneExperiment\n",
    "import itertools\n",
    "import os\n",
    "from ray import tune"
   ]
  },
  {
   "cell_type": "code",
   "execution_count": null,
   "metadata": {
    "colab": {
     "base_uri": "https://localhost:8080/"
    },
    "id": "nPqP3AHpvl-V",
    "outputId": "980d5662-4d8d-47d8-89d1-6b2cc65ea845"
   },
   "outputs": [],
   "source": [
    "train_ds = Dataset.from_json(\"../preprocessing_inference/train_v1.json\")\n",
    "valid_ds = Dataset.from_json(\"../preprocessing_inference/valid_v1.json\")"
   ]
  },
  {
   "cell_type": "code",
   "execution_count": null,
   "metadata": {
    "id": "9F2Gszk2vo6n"
   },
   "outputs": [],
   "source": [
    "train_ds.rename_column_(\"tags_bio\", \"tags\")\n",
    "valid_ds.rename_column_(\"tags_bio\", \"tags\")\n",
    "train_ds.rename_column_(\"classification_label\", \"labels\")\n",
    "valid_ds.rename_column_(\"classification_label\", \"labels\")"
   ]
  },
  {
   "cell_type": "code",
   "execution_count": null,
   "metadata": {
    "colab": {
     "base_uri": "https://localhost:8080/"
    },
    "id": "nyNb8uUSv2c_",
    "outputId": "13437a00-1caf-4b9b-8f40-85d6b3706ab8"
   },
   "outputs": [],
   "source": [
    "!wget https://zenodo.org/record/4449930/files/cbow_cased.tar.gz"
   ]
  },
  {
   "cell_type": "code",
   "execution_count": null,
   "metadata": {
    "id": "dlozVc3HyWE2"
   },
   "outputs": [],
   "source": [
    "!tar -xzf cbow_cased.tar.gz"
   ]
  },
  {
   "cell_type": "code",
   "execution_count": null,
   "metadata": {
    "colab": {
     "base_uri": "https://localhost:8080/"
    },
    "id": "orwTkzlYzzNw",
    "outputId": "e0c28b32-302b-420d-ddd7-ba9432e2723e"
   },
   "outputs": [],
   "source": [
    "!head cased/covid_19_es_twitter_cbow_cased.vec"
   ]
  },
  {
   "cell_type": "code",
   "execution_count": null,
   "metadata": {
    "id": "hpRmnri8wDi4"
   },
   "outputs": [],
   "source": [
    "profner = {\n",
    "    \"name\": \"profner\",\n",
    "    \"features\": {\n",
    "        \"word\": {\n",
    "            \"embedding_dim\": 300, \n",
    "            #\"weights_file\": \"/content/cased/covid_19_es_twitter_cbow_cased.vec\",\n",
    "            \"trainable\": True,\n",
    "        }\n",
    "    },\n",
    "    \"encoder\": {\n",
    "        \"type\": \"gru\",\n",
    "        \"num_layers\": 1,\n",
    "        \"bidirectional\": True,\n",
    "        \"hidden_size\": 128,\n",
    "    },\n",
    "    \"head\": {\n",
    "        \"type\": \"ProfNer\",\n",
    "        \"classification_labels\": train_ds.unique(\"labels\"),\n",
    "        \"classification_pooler\": {\n",
    "            \"type\": \"gru\",\n",
    "            \"num_layers\": 1,\n",
    "            \"bidirectional\": True,\n",
    "            \"hidden_size\": 64,\n",
    "        },\n",
    "        \"ner_feedforward\": {\n",
    "            \"activations\": [\"relu\"],\n",
    "            \"dropout\": [0],\n",
    "            \"hidden_dims\": [128],\n",
    "            \"num_layers\": 1,\n",
    "        },\n",
    "        \"ner_tags\": list(set(itertools.chain.from_iterable(train_ds[\"tags\"]))),\n",
    "        \"ner_tags_encoding\": \"BIO\",\n",
    "        \"dropout\": 0.1,\n",
    "    },\n",
    "}"
   ]
  },
  {
   "cell_type": "code",
   "execution_count": null,
   "metadata": {
    "id": "8CRqn22axZ6p"
   },
   "outputs": [],
   "source": [
    "pipeline = Pipeline.from_config(profner)"
   ]
  },
  {
   "cell_type": "code",
   "execution_count": null,
   "metadata": {
    "colab": {
     "base_uri": "https://localhost:8080/"
    },
    "id": "5wDFDKB31Vrn",
    "outputId": "7955317d-9029-454d-e6cf-27a261ffcc31"
   },
   "outputs": [],
   "source": [
    "pipeline.predict([\"test\", \"this\"])"
   ]
  },
  {
   "cell_type": "code",
   "execution_count": null,
   "metadata": {
    "id": "GkurSW_u0EM0"
   },
   "outputs": [],
   "source": [
    "trainer_config = dict(\n",
    "    optimizer={\n",
    "        \"type\": \"adamw\",\n",
    "        \"lr\": tune.loguniform(1e-4, 1e-2),\n",
    "        \"weight_decay\": tune.loguniform(5e-3, 5e-2)\n",
    "    },\n",
    "    linear_decay=False,\n",
    "    warmup_steps=tune.randint(0, 200),\n",
    "    training_size=len(train_ds),\n",
    "    batch_size=tune.choice([4, 8, 16]),\n",
    "    num_epochs=tune.choice([3, 4, 5]),\n",
    "    validation_metric=\"+ner/f1-measure-overall\"\n",
    ")"
   ]
  },
  {
   "cell_type": "code",
   "execution_count": null,
   "metadata": {},
   "outputs": [],
   "source": [
    "from ray.tune.suggest.hyperopt import HyperOptSearch"
   ]
  },
  {
   "cell_type": "code",
   "execution_count": null,
   "metadata": {},
   "outputs": [],
   "source": [
    "hyperopt = HyperOptSearch(metric=\"validation_ner/f1-measure-overall\", mode=\"max\", n_initial_points=2)"
   ]
  },
  {
   "cell_type": "code",
   "execution_count": null,
   "metadata": {
    "id": "Y2CrEbel0W2w"
   },
   "outputs": [],
   "source": [
    "random_search = TuneExperiment(\n",
    "    pipeline_config=profner,\n",
    "    trainer_config=trainer_config,\n",
    "    train_dataset=train_ds.select(range(32)),\n",
    "    valid_dataset=valid_ds.select(range(32)),\n",
    "    name=\"profner\",\n",
    "    num_samples=20,\n",
    "    local_dir=\"tune_runs\",\n",
    "    resources_per_trial={\"cpu\": 5, \"gpu\": 0},\n",
    ")"
   ]
  },
  {
   "cell_type": "code",
   "execution_count": null,
   "metadata": {
    "colab": {
     "background_save": true,
     "base_uri": "https://localhost:8080/",
     "height": 1000
    },
    "id": "hQOnaQZE0n50",
    "outputId": "4f9e59aa-63ec-4eaf-dcf9-24d2f64b9893"
   },
   "outputs": [],
   "source": [
    "analysis = tune.run(\n",
    "    random_search,\n",
    "    config=random_search.config,\n",
    "    scheduler=tune.schedulers.ASHAScheduler(),\n",
    "    search_alg=hyperopt,\n",
    "    metric=\"validation_ner/f1-measure-overall\", \n",
    "    mode=\"max\",\n",
    "    progress_reporter=tune.JupyterNotebookReporter(overwrite=True)\n",
    ")"
   ]
  },
  {
   "cell_type": "code",
   "execution_count": null,
   "metadata": {
    "id": "6ugBMOTb1A4d"
   },
   "outputs": [],
   "source": []
  }
 ],
 "metadata": {
  "accelerator": "GPU",
  "colab": {
   "name": "profner.ipynb",
   "provenance": []
  },
  "kernelspec": {
   "display_name": "Python 3",
   "language": "python",
   "name": "python3"
  },
  "language_info": {
   "codemirror_mode": {
    "name": "ipython",
    "version": 3
   },
   "file_extension": ".py",
   "mimetype": "text/x-python",
   "name": "python",
   "nbconvert_exporter": "python",
   "pygments_lexer": "ipython3",
   "version": "3.7.9"
  }
 },
 "nbformat": 4,
 "nbformat_minor": 4
}
